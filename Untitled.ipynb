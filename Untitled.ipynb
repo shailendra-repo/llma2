{
 "cells": [
  {
   "cell_type": "code",
   "execution_count": 1,
   "id": "9900e86a",
   "metadata": {},
   "outputs": [
    {
     "name": "stdout",
     "output_type": "stream",
     "text": [
      "Collecting sentence-transformers\n",
      "  Downloading sentence-transformers-2.2.2.tar.gz (85 kB)\n",
      "\u001b[2K     \u001b[38;2;114;156;31m━━━━━━━━━━━━━━━━━━━━━━━━━━━━━━━━━━━━━━━━\u001b[0m \u001b[32m86.0/86.0 kB\u001b[0m \u001b[31m1.9 MB/s\u001b[0m eta \u001b[36m0:00:00\u001b[0m MB/s\u001b[0m eta \u001b[36m0:00:01\u001b[0m\n",
      "\u001b[?25h  Preparing metadata (setup.py) ... \u001b[?25ldone\n",
      "\u001b[?25hRequirement already satisfied: transformers<5.0.0,>=4.6.0 in /home/shailendra/anaconda3/lib/python3.11/site-packages (from sentence-transformers) (4.32.1)\n",
      "Requirement already satisfied: tqdm in /home/shailendra/anaconda3/lib/python3.11/site-packages (from sentence-transformers) (4.65.0)\n",
      "Collecting torch>=1.6.0 (from sentence-transformers)\n",
      "  Obtaining dependency information for torch>=1.6.0 from https://files.pythonhosted.org/packages/5b/13/fcabc86948f9e89b62a538670720f8589d63f93d3f4f3d172236a98e70f8/torch-2.1.0-cp311-cp311-manylinux1_x86_64.whl.metadata\n",
      "  Downloading torch-2.1.0-cp311-cp311-manylinux1_x86_64.whl.metadata (25 kB)\n",
      "Collecting torchvision (from sentence-transformers)\n",
      "  Obtaining dependency information for torchvision from https://files.pythonhosted.org/packages/08/aa/033a0a1bca4a3b8f81f97709024e053da37cf5c970f3dc5d76233c920b99/torchvision-0.16.0-cp311-cp311-manylinux1_x86_64.whl.metadata\n",
      "  Downloading torchvision-0.16.0-cp311-cp311-manylinux1_x86_64.whl.metadata (6.6 kB)\n",
      "Requirement already satisfied: numpy in /home/shailendra/anaconda3/lib/python3.11/site-packages (from sentence-transformers) (1.24.3)\n",
      "Requirement already satisfied: scikit-learn in /home/shailendra/anaconda3/lib/python3.11/site-packages (from sentence-transformers) (1.3.0)\n",
      "Requirement already satisfied: scipy in /home/shailendra/anaconda3/lib/python3.11/site-packages (from sentence-transformers) (1.11.1)\n",
      "Requirement already satisfied: nltk in /home/shailendra/anaconda3/lib/python3.11/site-packages (from sentence-transformers) (3.8.1)\n",
      "Collecting sentencepiece (from sentence-transformers)\n",
      "  Downloading sentencepiece-0.1.99-cp311-cp311-manylinux_2_17_x86_64.manylinux2014_x86_64.whl (1.3 MB)\n",
      "\u001b[2K     \u001b[38;2;114;156;31m━━━━━━━━━━━━━━━━━━━━━━━━━━━━━━━━━━━━━━━━\u001b[0m \u001b[32m1.3/1.3 MB\u001b[0m \u001b[31m7.7 MB/s\u001b[0m eta \u001b[36m0:00:00\u001b[0mm eta \u001b[36m0:00:01\u001b[0m0:01\u001b[0m0:01\u001b[0m\n",
      "\u001b[?25hRequirement already satisfied: huggingface-hub>=0.4.0 in /home/shailendra/anaconda3/lib/python3.11/site-packages (from sentence-transformers) (0.15.1)\n",
      "Requirement already satisfied: filelock in /home/shailendra/anaconda3/lib/python3.11/site-packages (from huggingface-hub>=0.4.0->sentence-transformers) (3.9.0)\n",
      "Requirement already satisfied: fsspec in /home/shailendra/anaconda3/lib/python3.11/site-packages (from huggingface-hub>=0.4.0->sentence-transformers) (2023.4.0)\n",
      "Requirement already satisfied: requests in /home/shailendra/anaconda3/lib/python3.11/site-packages (from huggingface-hub>=0.4.0->sentence-transformers) (2.31.0)\n",
      "Requirement already satisfied: pyyaml>=5.1 in /home/shailendra/anaconda3/lib/python3.11/site-packages (from huggingface-hub>=0.4.0->sentence-transformers) (6.0)\n",
      "Requirement already satisfied: typing-extensions>=3.7.4.3 in /home/shailendra/anaconda3/lib/python3.11/site-packages (from huggingface-hub>=0.4.0->sentence-transformers) (4.7.1)\n",
      "Requirement already satisfied: packaging>=20.9 in /home/shailendra/anaconda3/lib/python3.11/site-packages (from huggingface-hub>=0.4.0->sentence-transformers) (23.1)\n",
      "Requirement already satisfied: sympy in /home/shailendra/anaconda3/lib/python3.11/site-packages (from torch>=1.6.0->sentence-transformers) (1.11.1)\n",
      "Requirement already satisfied: networkx in /home/shailendra/anaconda3/lib/python3.11/site-packages (from torch>=1.6.0->sentence-transformers) (3.1)\n",
      "Requirement already satisfied: jinja2 in /home/shailendra/anaconda3/lib/python3.11/site-packages (from torch>=1.6.0->sentence-transformers) (3.1.2)\n",
      "Collecting nvidia-cuda-nvrtc-cu12==12.1.105 (from torch>=1.6.0->sentence-transformers)\n",
      "  Downloading nvidia_cuda_nvrtc_cu12-12.1.105-py3-none-manylinux1_x86_64.whl (23.7 MB)\n",
      "\u001b[2K     \u001b[38;2;114;156;31m━━━━━━━━━━━━━━━━━━━━━━━━━━━━━━━━━━━━━━━━\u001b[0m \u001b[32m23.7/23.7 MB\u001b[0m \u001b[31m8.4 MB/s\u001b[0m eta \u001b[36m0:00:00\u001b[0mm eta \u001b[36m0:00:01\u001b[0m[36m0:00:01\u001b[0m\n",
      "\u001b[?25hCollecting nvidia-cuda-runtime-cu12==12.1.105 (from torch>=1.6.0->sentence-transformers)\n",
      "  Downloading nvidia_cuda_runtime_cu12-12.1.105-py3-none-manylinux1_x86_64.whl (823 kB)\n",
      "\u001b[2K     \u001b[38;2;114;156;31m━━━━━━━━━━━━━━━━━━━━━━━━━━━━━━━━━━━━━━━\u001b[0m \u001b[32m823.6/823.6 kB\u001b[0m \u001b[31m8.5 MB/s\u001b[0m eta \u001b[36m0:00:00\u001b[0m31m11.3 MB/s\u001b[0m eta \u001b[36m0:00:01\u001b[0m\n",
      "\u001b[?25hCollecting nvidia-cuda-cupti-cu12==12.1.105 (from torch>=1.6.0->sentence-transformers)\n",
      "  Downloading nvidia_cuda_cupti_cu12-12.1.105-py3-none-manylinux1_x86_64.whl (14.1 MB)\n",
      "\u001b[2K     \u001b[38;2;114;156;31m━━━━━━━━━━━━━━━━━━━━━━━━━━━━━━━━━━━━━━━━\u001b[0m \u001b[32m14.1/14.1 MB\u001b[0m \u001b[31m9.4 MB/s\u001b[0m eta \u001b[36m0:00:00\u001b[0m0m eta \u001b[36m0:00:01\u001b[0m[36m0:00:01\u001b[0m\n",
      "\u001b[?25hCollecting nvidia-cudnn-cu12==8.9.2.26 (from torch>=1.6.0->sentence-transformers)\n",
      "  Obtaining dependency information for nvidia-cudnn-cu12==8.9.2.26 from https://files.pythonhosted.org/packages/ff/74/a2e2be7fb83aaedec84f391f082cf765dfb635e7caa9b49065f73e4835d8/nvidia_cudnn_cu12-8.9.2.26-py3-none-manylinux1_x86_64.whl.metadata\n",
      "  Downloading nvidia_cudnn_cu12-8.9.2.26-py3-none-manylinux1_x86_64.whl.metadata (1.6 kB)\n",
      "Collecting nvidia-cublas-cu12==12.1.3.1 (from torch>=1.6.0->sentence-transformers)\n",
      "  Downloading nvidia_cublas_cu12-12.1.3.1-py3-none-manylinux1_x86_64.whl (410.6 MB)\n",
      "\u001b[2K     \u001b[38;2;114;156;31m━━━━━━━━━━━━━━━━━━━━━━━━━━━━━━━━━━━━━━━\u001b[0m \u001b[32m410.6/410.6 MB\u001b[0m \u001b[31m3.1 MB/s\u001b[0m eta \u001b[36m0:00:00\u001b[0mm eta \u001b[36m0:00:01\u001b[0m[36m0:00:02\u001b[0m\n",
      "\u001b[?25hCollecting nvidia-cufft-cu12==11.0.2.54 (from torch>=1.6.0->sentence-transformers)\n",
      "  Downloading nvidia_cufft_cu12-11.0.2.54-py3-none-manylinux1_x86_64.whl (121.6 MB)\n",
      "\u001b[2K     \u001b[38;2;114;156;31m━━━━━━━━━━━━━━━━━━━━━━━━━━━━━━━━━━━━━━━\u001b[0m \u001b[32m121.6/121.6 MB\u001b[0m \u001b[31m5.7 MB/s\u001b[0m eta \u001b[36m0:00:00\u001b[0mm eta \u001b[36m0:00:01\u001b[0m[36m0:00:01\u001b[0m\n",
      "\u001b[?25hCollecting nvidia-curand-cu12==10.3.2.106 (from torch>=1.6.0->sentence-transformers)\n",
      "  Downloading nvidia_curand_cu12-10.3.2.106-py3-none-manylinux1_x86_64.whl (56.5 MB)\n",
      "\u001b[2K     \u001b[38;2;114;156;31m━━━━━━━━━━━━━━━━━━━━━━━━━━━━━━━━━━━━━━━━\u001b[0m \u001b[32m56.5/56.5 MB\u001b[0m \u001b[31m7.6 MB/s\u001b[0m eta \u001b[36m0:00:00\u001b[0m0m eta \u001b[36m0:00:01\u001b[0m[36m0:00:01\u001b[0m\n",
      "\u001b[?25hCollecting nvidia-cusolver-cu12==11.4.5.107 (from torch>=1.6.0->sentence-transformers)\n",
      "  Downloading nvidia_cusolver_cu12-11.4.5.107-py3-none-manylinux1_x86_64.whl (124.2 MB)\n",
      "\u001b[2K     \u001b[38;2;114;156;31m━━━━━━━━━━━━━━━━━━━━━━━━━━━━━━━━━━━━━━━\u001b[0m \u001b[32m124.2/124.2 MB\u001b[0m \u001b[31m5.8 MB/s\u001b[0m eta \u001b[36m0:00:00\u001b[0mm eta \u001b[36m0:00:01\u001b[0m[36m0:00:01\u001b[0m\n",
      "\u001b[?25hCollecting nvidia-cusparse-cu12==12.1.0.106 (from torch>=1.6.0->sentence-transformers)\n",
      "  Downloading nvidia_cusparse_cu12-12.1.0.106-py3-none-manylinux1_x86_64.whl (196.0 MB)\n",
      "\u001b[2K     \u001b[38;2;114;156;31m━━━━━━━━━━━━━━━━━━━━━━━━━━━━━━━━━━━━━━━\u001b[0m \u001b[32m196.0/196.0 MB\u001b[0m \u001b[31m4.8 MB/s\u001b[0m eta \u001b[36m0:00:00\u001b[0mm eta \u001b[36m0:00:01\u001b[0m[36m0:00:01\u001b[0m\n",
      "\u001b[?25hCollecting nvidia-nccl-cu12==2.18.1 (from torch>=1.6.0->sentence-transformers)\n",
      "  Downloading nvidia_nccl_cu12-2.18.1-py3-none-manylinux1_x86_64.whl (209.8 MB)\n",
      "\u001b[2K     \u001b[38;2;114;156;31m━━━━━━━━━━━━━━━━━━━━━━━━━━━━━━━━━━━━━━━\u001b[0m \u001b[32m209.8/209.8 MB\u001b[0m \u001b[31m5.2 MB/s\u001b[0m eta \u001b[36m0:00:00\u001b[0mm eta \u001b[36m0:00:01\u001b[0m[36m0:00:01\u001b[0m\n",
      "\u001b[?25hCollecting nvidia-nvtx-cu12==12.1.105 (from torch>=1.6.0->sentence-transformers)\n",
      "  Downloading nvidia_nvtx_cu12-12.1.105-py3-none-manylinux1_x86_64.whl (99 kB)\n",
      "\u001b[2K     \u001b[38;2;114;156;31m━━━━━━━━━━━━━━━━━━━━━━━━━━━━━━━━━━━━━━━━\u001b[0m \u001b[32m99.1/99.1 kB\u001b[0m \u001b[31m12.6 MB/s\u001b[0m eta \u001b[36m0:00:00\u001b[0m\n",
      "\u001b[?25hCollecting triton==2.1.0 (from torch>=1.6.0->sentence-transformers)\n",
      "  Obtaining dependency information for triton==2.1.0 from https://files.pythonhosted.org/packages/5c/c1/54fffb2eb13d293d9a429fead3646752ea190de0229bcf3d591ba2481263/triton-2.1.0-0-cp311-cp311-manylinux2014_x86_64.manylinux_2_17_x86_64.whl.metadata\n",
      "  Downloading triton-2.1.0-0-cp311-cp311-manylinux2014_x86_64.manylinux_2_17_x86_64.whl.metadata (1.3 kB)\n",
      "Collecting nvidia-nvjitlink-cu12 (from nvidia-cusolver-cu12==11.4.5.107->torch>=1.6.0->sentence-transformers)\n",
      "  Obtaining dependency information for nvidia-nvjitlink-cu12 from https://files.pythonhosted.org/packages/45/de/885b6d3e1fa07bf19124076b348d3cf30f68051f813cba99e103f53d2f75/nvidia_nvjitlink_cu12-12.3.52-py3-none-manylinux1_x86_64.whl.metadata\n",
      "  Downloading nvidia_nvjitlink_cu12-12.3.52-py3-none-manylinux1_x86_64.whl.metadata (1.5 kB)\n"
     ]
    },
    {
     "name": "stdout",
     "output_type": "stream",
     "text": [
      "Requirement already satisfied: regex!=2019.12.17 in /home/shailendra/anaconda3/lib/python3.11/site-packages (from transformers<5.0.0,>=4.6.0->sentence-transformers) (2022.7.9)\n",
      "Requirement already satisfied: tokenizers!=0.11.3,<0.14,>=0.11.1 in /home/shailendra/anaconda3/lib/python3.11/site-packages (from transformers<5.0.0,>=4.6.0->sentence-transformers) (0.13.2)\n",
      "Requirement already satisfied: safetensors>=0.3.1 in /home/shailendra/anaconda3/lib/python3.11/site-packages (from transformers<5.0.0,>=4.6.0->sentence-transformers) (0.3.2)\n",
      "Requirement already satisfied: click in /home/shailendra/anaconda3/lib/python3.11/site-packages (from nltk->sentence-transformers) (8.0.4)\n",
      "Requirement already satisfied: joblib in /home/shailendra/anaconda3/lib/python3.11/site-packages (from nltk->sentence-transformers) (1.2.0)\n",
      "Requirement already satisfied: threadpoolctl>=2.0.0 in /home/shailendra/anaconda3/lib/python3.11/site-packages (from scikit-learn->sentence-transformers) (2.2.0)\n",
      "Requirement already satisfied: pillow!=8.3.*,>=5.3.0 in /home/shailendra/anaconda3/lib/python3.11/site-packages (from torchvision->sentence-transformers) (9.4.0)\n",
      "Requirement already satisfied: MarkupSafe>=2.0 in /home/shailendra/anaconda3/lib/python3.11/site-packages (from jinja2->torch>=1.6.0->sentence-transformers) (2.1.1)\n",
      "Requirement already satisfied: charset-normalizer<4,>=2 in /home/shailendra/anaconda3/lib/python3.11/site-packages (from requests->huggingface-hub>=0.4.0->sentence-transformers) (2.0.4)\n",
      "Requirement already satisfied: idna<4,>=2.5 in /home/shailendra/anaconda3/lib/python3.11/site-packages (from requests->huggingface-hub>=0.4.0->sentence-transformers) (3.4)\n",
      "Requirement already satisfied: urllib3<3,>=1.21.1 in /home/shailendra/anaconda3/lib/python3.11/site-packages (from requests->huggingface-hub>=0.4.0->sentence-transformers) (1.26.16)\n",
      "Requirement already satisfied: certifi>=2017.4.17 in /home/shailendra/anaconda3/lib/python3.11/site-packages (from requests->huggingface-hub>=0.4.0->sentence-transformers) (2023.7.22)\n",
      "Requirement already satisfied: mpmath>=0.19 in /home/shailendra/anaconda3/lib/python3.11/site-packages (from sympy->torch>=1.6.0->sentence-transformers) (1.3.0)\n",
      "Downloading torch-2.1.0-cp311-cp311-manylinux1_x86_64.whl (670.2 MB)\n",
      "\u001b[2K   \u001b[38;2;114;156;31m━━━━━━━━━━━━━━━━━━━━━━━━━━━━━━━━━━━━━━━━\u001b[0m \u001b[32m670.2/670.2 MB\u001b[0m \u001b[31m2.3 MB/s\u001b[0m eta \u001b[36m0:00:00\u001b[0m0m eta \u001b[36m0:00:01\u001b[0m[36m0:00:02\u001b[0m\n",
      "\u001b[?25hDownloading nvidia_cudnn_cu12-8.9.2.26-py3-none-manylinux1_x86_64.whl (731.7 MB)\n",
      "\u001b[2K   \u001b[38;2;114;156;31m━━━━━━━━━━━━━━━━━━━━━━━━━━━━━━━━━━━━━━━━\u001b[0m \u001b[32m731.7/731.7 MB\u001b[0m \u001b[31m2.1 MB/s\u001b[0m eta \u001b[36m0:00:00\u001b[0m0m eta \u001b[36m0:00:01\u001b[0m[36m0:00:02\u001b[0m\n",
      "\u001b[?25hDownloading triton-2.1.0-0-cp311-cp311-manylinux2014_x86_64.manylinux_2_17_x86_64.whl (89.2 MB)\n",
      "\u001b[2K   \u001b[38;2;114;156;31m━━━━━━━━━━━━━━━━━━━━━━━━━━━━━━━━━━━━━━━━\u001b[0m \u001b[32m89.2/89.2 MB\u001b[0m \u001b[31m6.8 MB/s\u001b[0m eta \u001b[36m0:00:00\u001b[0m0m eta \u001b[36m0:00:01\u001b[0m[36m0:00:01\u001b[0m\n",
      "\u001b[?25hDownloading torchvision-0.16.0-cp311-cp311-manylinux1_x86_64.whl (6.9 MB)\n",
      "\u001b[2K   \u001b[38;2;114;156;31m━━━━━━━━━━━━━━━━━━━━━━━━━━━━━━━━━━━━━━━━\u001b[0m \u001b[32m6.9/6.9 MB\u001b[0m \u001b[31m10.1 MB/s\u001b[0m eta \u001b[36m0:00:00\u001b[0mm eta \u001b[36m0:00:01\u001b[0m0:01\u001b[0m:01\u001b[0m\n",
      "\u001b[?25hDownloading nvidia_nvjitlink_cu12-12.3.52-py3-none-manylinux1_x86_64.whl (20.5 MB)\n",
      "\u001b[2K   \u001b[38;2;114;156;31m━━━━━━━━━━━━━━━━━━━━━━━━━━━━━━━━━━━━━━━━\u001b[0m \u001b[32m20.5/20.5 MB\u001b[0m \u001b[31m8.5 MB/s\u001b[0m eta \u001b[36m0:00:00\u001b[0mm eta \u001b[36m0:00:01\u001b[0m[36m0:00:01\u001b[0mm\n",
      "\u001b[?25hBuilding wheels for collected packages: sentence-transformers\n",
      "  Building wheel for sentence-transformers (setup.py) ... \u001b[?25ldone\n",
      "\u001b[?25h  Created wheel for sentence-transformers: filename=sentence_transformers-2.2.2-py3-none-any.whl size=125925 sha256=baba996cea05d8d7009563cec2509afbe3228b700c69137ae9656fcc086b6d08\n",
      "  Stored in directory: /home/shailendra/.cache/pip/wheels/ff/27/bf/ffba8b318b02d7f691a57084ee154e26ed24d012b0c7805881\n",
      "Successfully built sentence-transformers\n",
      "Installing collected packages: sentencepiece, triton, nvidia-nvtx-cu12, nvidia-nvjitlink-cu12, nvidia-nccl-cu12, nvidia-curand-cu12, nvidia-cufft-cu12, nvidia-cuda-runtime-cu12, nvidia-cuda-nvrtc-cu12, nvidia-cuda-cupti-cu12, nvidia-cublas-cu12, nvidia-cusparse-cu12, nvidia-cudnn-cu12, nvidia-cusolver-cu12, torch, torchvision, sentence-transformers\n",
      "Successfully installed nvidia-cublas-cu12-12.1.3.1 nvidia-cuda-cupti-cu12-12.1.105 nvidia-cuda-nvrtc-cu12-12.1.105 nvidia-cuda-runtime-cu12-12.1.105 nvidia-cudnn-cu12-8.9.2.26 nvidia-cufft-cu12-11.0.2.54 nvidia-curand-cu12-10.3.2.106 nvidia-cusolver-cu12-11.4.5.107 nvidia-cusparse-cu12-12.1.0.106 nvidia-nccl-cu12-2.18.1 nvidia-nvjitlink-cu12-12.3.52 nvidia-nvtx-cu12-12.1.105 sentence-transformers-2.2.2 sentencepiece-0.1.99 torch-2.1.0 torchvision-0.16.0 triton-2.1.0\n"
     ]
    }
   ],
   "source": [
    "# ~/Downloads/llama-2-7b-chat.Q8_0.gguf\n",
    "!pip install sentence-transformers\n",
    "!pip install ctransformers\n",
    "!pip install chromadb\n",
    "!pip install langchain\n",
    "!pip install streamlit\n",
    "!pip install PyPDF2\n",
    "!pip install faiss-cpu"
   ]
  },
  {
   "cell_type": "code",
   "execution_count": 1,
   "id": "8953c9f3",
   "metadata": {},
   "outputs": [],
   "source": [
    "import streamlit as st\n",
    "from langchain.prompts import PromptTemplate\n",
    "from langchain.llms import CTransformers\n",
    "from PyPDF2 import PdfReader \n",
    "from langchain.embeddings.huggingface import HuggingFaceEmbeddings\n",
    "from langchain.text_splitter import CharacterTextSplitter\n",
    "from langchain.vectorstores import FAISS\n",
    "from langchain.chains.question_answering import load_qa_chain\n",
    "from langchain.llms import huggingface_hub\n"
   ]
  },
  {
   "cell_type": "code",
   "execution_count": 2,
   "id": "ad37dadb",
   "metadata": {},
   "outputs": [],
   "source": [
    "# '/home/shailendra/Downloads/llama-2-13b-chat.Q8_0.gguf''/home/shailendra/Downloads/llama-2-7b-chat.Q8_0.gguf' /home/shailendra/llama2/llama-2-13b-chat.Q8_0.gguf,     #https://huggingface.co/TheBloke/Llama-2-7B-Chat-GGML/tree/main\n",
    "llm = CTransformers(model= '/home/shailendra/llama2/llama-2-7b-chat.Q8_0.gguf' ,\n",
    "                    model_type='llama',\n",
    "                    config={'max_new_tokens': 256,\n",
    "                            'temperature': 0.05})"
   ]
  },
  {
   "cell_type": "code",
   "execution_count": 4,
   "id": "76f5c8bc",
   "metadata": {},
   "outputs": [
    {
     "name": "stdout",
     "output_type": "stream",
     "text": [
      "\n",
      "A. New Delhi\n",
      "B. Mumbai\n",
      "C. Bengaluru\n",
      "D. Chennai\n",
      "Answer: A. New Delhi\n",
      "Explanation: New Delhi is the capital city of India. It is located in the National Capital Territory of Delhi and is home to many national institutions, including the Parliament of India, the President's residence, and the Supreme Court of India.\n"
     ]
    }
   ],
   "source": [
    "print(llm('capital of India?'))"
   ]
  },
  {
   "cell_type": "code",
   "execution_count": null,
   "id": "ecc4bbe3",
   "metadata": {},
   "outputs": [],
   "source": []
  },
  {
   "cell_type": "code",
   "execution_count": 5,
   "id": "c9be8f75",
   "metadata": {},
   "outputs": [],
   "source": [
    "data = PdfReader(\"Sandhya_resume.pdf\")"
   ]
  },
  {
   "cell_type": "code",
   "execution_count": 6,
   "id": "450218ab",
   "metadata": {},
   "outputs": [
    {
     "data": {
      "text/plain": [
       "['SANDHYA KUMARIMedina, Minneapolis MN 55340\\n7853830915\\nsandhyacms@gmail.com',\n",
       " 'sandhyacms@gmail.com\\nHighly motivated and customer-oriented cashier with 2 years of experience in the retail industry. Diligent and detailoriented,',\n",
       " 'adept at handling monetary transactions accurately and efficiently. Exceptional interpersonal skills, ensuring positive',\n",
       " 'interactions with customers and colleagues. Proficient in operating cash registers, processing payments, and maintaining a',\n",
       " 'neat and organized checkout area. Proven ability to multitask and thrive in fast-paced environments. Committed to',\n",
       " 'delivering outstanding customer service and creating a welcoming shopping experience. A reliable team player with a',\n",
       " 'strong work ethic, seeking to contribute my skills and contribute to the success of the organization\\nWORK EXPERIENCE\\nGuest Advocate\\n09\\n/2021to04/2022Target\\nRidgedale, Minnetonka, MN',\n",
       " 'As a Guest Advocate, my primary responsibility is to provide exceptional customer service and ensure a positive',\n",
       " 'experience for all guests visiting the establishment. My role revolves around assisting and engaging with customers to',\n",
       " 'meet their needs and resolve any issues they may encounter. Here is a more detailed job description:',\n",
       " 'Cash Handling: Process transactions accurately and efficiently, including cash, credit/debit cards, and other forms',\n",
       " 'of payment. Maintain the integrity of cash registers and ensure correct change is given to customers.',\n",
       " 'Customer Service: Greet guests with a friendly and welcoming demeanor, actively listen to their inquiries, and',\n",
       " 'assist with product or service information. Provide knowledgeable responses to questions and offer\\nrecommendations to enhance their shopping or service experience.',\n",
       " 'Sales and Upselling: Identify opportunities to upsell or cross-sell products or services to customers, enhancing\\ntheir overall experience and increasing sales for the establishment.',\n",
       " 'Product Knowledge: Stay informed about the establishment\\x19s products, services, promotions, and policies to\\neffectively assist customers and provide relevant information.\\nCashier\\n06',\n",
       " 'Cashier\\n06\\n/2020to08/2021Bed Bath and Beyond\\nWestRidge, 11240 Wayzata Blvd, Minnetonka, MN 55305',\n",
       " 'As a cashier, my main responsibility is to efficiently and accurately handle monetary transactions for customers purchasing',\n",
       " 'goods or services. I play a crucial role in providing excellent customer service and ensuring a smooth checkout process.\\nHere is a comprehensive job description for a cashier:',\n",
       " 'Customer Service: Greet customers in a friendly and welcoming manner as they approach the checkout',\n",
       " 'counter. Assist customers with locating items, answering questions, and providing information about products orservices.',\n",
       " 'Cash Handling: Operate cash registers and point-of-sale (POS) systems to process various forms of payment,',\n",
       " 'including cash, credit/debit cards, mobile payments, and gift cards. Ensure all transactions are completed\\naccurately, and proper change is given to customers',\n",
       " 'Returns and Exchanges: Process returns, exchanges, and refunds following established store policies. Handle',\n",
       " 'these transactions with a focus on customer satisfaction and resolving any issues they may have.\\nSKILLS\\nCash handling and processing transaction\\n- 2 yearsCustomer Service\\n- 2 yearsComputer knowledge',\n",
       " \"- 2 yearsEDUCATION\\nVinoba Bhave University\\nBachelor's\\nHistory\\nHazaribag, India\\n05\\n/2005to12/2008Tenughat Mahavidyalaya\\nHigh school or equivalent\\nEconomics, History, Social studies, Hindi\",\n",
       " 'Tenughat, India\\n04\\n/2003to05/2005']"
      ]
     },
     "execution_count": 6,
     "metadata": {},
     "output_type": "execute_result"
    }
   ],
   "source": [
    "combined_test=\"\"\n",
    "for i, page in enumerate(data.pages):\n",
    "    txt = page.extract_text()\n",
    "    if txt:\n",
    "        combined_test += txt\n",
    "\n",
    "\n",
    "text_splitter = CharacterTextSplitter(\n",
    "    separator='\\n',\n",
    "    chunk_size= 200,\n",
    "    chunk_overlap=20,\n",
    "    length_function=len\n",
    ")\n",
    "\n",
    "final_data = text_splitter.split_text(combined_test)\n",
    "\n",
    "final_data\n"
   ]
  },
  {
   "cell_type": "code",
   "execution_count": 7,
   "id": "667fe1a4",
   "metadata": {},
   "outputs": [
    {
     "data": {
      "text/plain": [
       "['SANDHYA KUMARIMedina, Minneapolis MN 55340\\n7853830915\\nsandhyacms@gmail.com',\n",
       " 'sandhyacms@gmail.com\\nHighly motivated and customer-oriented cashier with 2 years of experience in the retail industry. Diligent and detailoriented,',\n",
       " 'adept at handling monetary transactions accurately and efficiently. Exceptional interpersonal skills, ensuring positive',\n",
       " 'interactions with customers and colleagues. Proficient in operating cash registers, processing payments, and maintaining a',\n",
       " 'neat and organized checkout area. Proven ability to multitask and thrive in fast-paced environments. Committed to',\n",
       " 'delivering outstanding customer service and creating a welcoming shopping experience. A reliable team player with a',\n",
       " 'strong work ethic, seeking to contribute my skills and contribute to the success of the organization\\nWORK EXPERIENCE\\nGuest Advocate\\n09\\n/2021to04/2022Target\\nRidgedale, Minnetonka, MN',\n",
       " 'As a Guest Advocate, my primary responsibility is to provide exceptional customer service and ensure a positive',\n",
       " 'experience for all guests visiting the establishment. My role revolves around assisting and engaging with customers to',\n",
       " 'meet their needs and resolve any issues they may encounter. Here is a more detailed job description:',\n",
       " 'Cash Handling: Process transactions accurately and efficiently, including cash, credit/debit cards, and other forms',\n",
       " 'of payment. Maintain the integrity of cash registers and ensure correct change is given to customers.',\n",
       " 'Customer Service: Greet guests with a friendly and welcoming demeanor, actively listen to their inquiries, and',\n",
       " 'assist with product or service information. Provide knowledgeable responses to questions and offer\\nrecommendations to enhance their shopping or service experience.',\n",
       " 'Sales and Upselling: Identify opportunities to upsell or cross-sell products or services to customers, enhancing\\ntheir overall experience and increasing sales for the establishment.',\n",
       " 'Product Knowledge: Stay informed about the establishment\\x19s products, services, promotions, and policies to\\neffectively assist customers and provide relevant information.\\nCashier\\n06',\n",
       " 'Cashier\\n06\\n/2020to08/2021Bed Bath and Beyond\\nWestRidge, 11240 Wayzata Blvd, Minnetonka, MN 55305',\n",
       " 'As a cashier, my main responsibility is to efficiently and accurately handle monetary transactions for customers purchasing',\n",
       " 'goods or services. I play a crucial role in providing excellent customer service and ensuring a smooth checkout process.\\nHere is a comprehensive job description for a cashier:',\n",
       " 'Customer Service: Greet customers in a friendly and welcoming manner as they approach the checkout',\n",
       " 'counter. Assist customers with locating items, answering questions, and providing information about products orservices.',\n",
       " 'Cash Handling: Operate cash registers and point-of-sale (POS) systems to process various forms of payment,',\n",
       " 'including cash, credit/debit cards, mobile payments, and gift cards. Ensure all transactions are completed\\naccurately, and proper change is given to customers',\n",
       " 'Returns and Exchanges: Process returns, exchanges, and refunds following established store policies. Handle',\n",
       " 'these transactions with a focus on customer satisfaction and resolving any issues they may have.\\nSKILLS\\nCash handling and processing transaction\\n- 2 yearsCustomer Service\\n- 2 yearsComputer knowledge',\n",
       " \"- 2 yearsEDUCATION\\nVinoba Bhave University\\nBachelor's\\nHistory\\nHazaribag, India\\n05\\n/2005to12/2008Tenughat Mahavidyalaya\\nHigh school or equivalent\\nEconomics, History, Social studies, Hindi\",\n",
       " 'Tenughat, India\\n04\\n/2003to05/2005']"
      ]
     },
     "execution_count": 7,
     "metadata": {},
     "output_type": "execute_result"
    }
   ],
   "source": [
    "final_data = text_splitter.split_text(combined_test)\n",
    "\n",
    "final_data\n"
   ]
  },
  {
   "cell_type": "code",
   "execution_count": 8,
   "id": "92e6eb1c",
   "metadata": {},
   "outputs": [],
   "source": [
    "embeddings = HuggingFaceEmbeddings()"
   ]
  },
  {
   "cell_type": "code",
   "execution_count": 9,
   "id": "36d9cd14",
   "metadata": {},
   "outputs": [],
   "source": [
    "documentSearch = FAISS.from_texts(final_data, embeddings)\n",
    "chain = load_qa_chain(llm, chain_type='stuff')\n"
   ]
  },
  {
   "cell_type": "code",
   "execution_count": 10,
   "id": "351f4b97",
   "metadata": {},
   "outputs": [
    {
     "data": {
      "text/plain": [
       "\" Sandhya Kumari is a highly motivated and customer-oriented cashier with 2 years of experience in the retail industry. She has a Bachelor's degree in History from Vinoba Bhave University and completed her high school or equivalent education at Tenughat Mahavidyalaya. Her email address is sandhyacms@gmail.com.\""
      ]
     },
     "execution_count": 10,
     "metadata": {},
     "output_type": "execute_result"
    }
   ],
   "source": [
    "our_query = \"who is Sandhya?\"\n",
    "docs = documentSearch.similarity_search(our_query)\n",
    "chain.run(input_documents = docs, question = our_query)"
   ]
  },
  {
   "cell_type": "code",
   "execution_count": 11,
   "id": "d80672e6",
   "metadata": {},
   "outputs": [],
   "source": [
    "def getQuery(str):\n",
    "    our_query = str\n",
    "    docs = documentSearch.similarity_search(our_query)\n",
    "    return chain.run(input_documents = docs, question = our_query)"
   ]
  },
  {
   "cell_type": "code",
   "execution_count": 12,
   "id": "e5c37d6a",
   "metadata": {},
   "outputs": [
    {
     "data": {
      "text/plain": [
       "\" Based on the information provided, Sandhya's qualification is a Bachelor's degree in History from Vinoba Bhave University.\""
      ]
     },
     "execution_count": 12,
     "metadata": {},
     "output_type": "execute_result"
    }
   ],
   "source": [
    "getQuery(\"what is Sandhya qualification?\")"
   ]
  },
  {
   "cell_type": "code",
   "execution_count": 13,
   "id": "619d492c",
   "metadata": {},
   "outputs": [
    {
     "data": {
      "text/plain": [
       "' Sandhya worked at Tenughat Mahavidyalaya in Hazaribag, India from 2005 to 2008.'"
      ]
     },
     "execution_count": 13,
     "metadata": {},
     "output_type": "execute_result"
    }
   ],
   "source": [
    "getQuery(\"where sandhya worked?\")"
   ]
  },
  {
   "cell_type": "code",
   "execution_count": 14,
   "id": "bf801f3d",
   "metadata": {},
   "outputs": [
    {
     "data": {
      "text/plain": [
       "' Based on the context provided, Bed Bath & Beyond is located at 11240 Wayzata Blvd, Minnetonka, MN 55305.'"
      ]
     },
     "execution_count": 14,
     "metadata": {},
     "output_type": "execute_result"
    }
   ],
   "source": [
    "getQuery(\"where is bed and bath?\")"
   ]
  },
  {
   "cell_type": "code",
   "execution_count": 15,
   "id": "a7897a1a",
   "metadata": {},
   "outputs": [
    {
     "data": {
      "text/plain": [
       "\" Based on the provided context, Sandhya's skills are likely to include proficiency in handling monetary transactions accurately and efficiently, as well as exceptional interpersonal skills for ensuring positive interactions with customers.\""
      ]
     },
     "execution_count": 15,
     "metadata": {},
     "output_type": "execute_result"
    }
   ],
   "source": [
    "getQuery(\"what is Sandhya skills?\")"
   ]
  },
  {
   "cell_type": "code",
   "execution_count": 16,
   "id": "deb1f5eb",
   "metadata": {},
   "outputs": [
    {
     "data": {
      "text/plain": [
       "\" Based on the information provided in the resume, Sandhya Kumari has a Bachelor's degree in History from Vinoba Bhave University and completed her high school or equivalent education at Tenughat Mahavidyalaya. She has 2 years of experience as a cashier in the retail industry and is highly motivated and customer-oriented.\\n\\nNote: The answer provided is based on the information provided in the resume, if there are any other important details that can help to summarize Sandhya's resume, please let me know.\""
      ]
     },
     "execution_count": 16,
     "metadata": {},
     "output_type": "execute_result"
    }
   ],
   "source": [
    "getQuery(\"what is summary of Sandhya resume?\")"
   ]
  },
  {
   "cell_type": "code",
   "execution_count": 17,
   "id": "6c4e4e75",
   "metadata": {},
   "outputs": [
    {
     "data": {
      "text/plain": [
       "'\\nThe ICC Cricket World Cup is held every four years, and the schedule for the next few tournaments is as follows:\\n\\n* 2019 ICC Cricket World Cup: England and Wales - May 30 to July 14, 2019\\n* 2023 ICC Cricket World Cup: India - October 5 to November 14, 2023\\n* 2027 ICC Cricket World Cup: Australia/New Zealand - April 16 to May 28, 2027\\nNote that the dates and locations for future tournaments are subject to change, and the International Cricket Council (ICC) may make adjustments as needed.'"
      ]
     },
     "execution_count": 17,
     "metadata": {},
     "output_type": "execute_result"
    }
   ],
   "source": [
    "llm(\"when is cricket world cup scheduled?\")"
   ]
  },
  {
   "cell_type": "code",
   "execution_count": 18,
   "id": "faac356e",
   "metadata": {},
   "outputs": [
    {
     "data": {
      "text/plain": [
       "'\\nThe latest iPhone model is the iPhone 12 Pro Max. It was announced by Apple on October 13, 2020 and was released to the public on November 6, 2020. The iPhone 12 Pro Max features a 6.7-inch Super Retina XDR display, a powerful A14 Bionic chip, up to 16GB of RAM, and a quad-camera system with a wide-angle lens, telephoto lens, and ultra-wide lens. It also has a new design with a stainless steel frame and tougher glass on both the front and back, as well as improved water resistance. Other features include wireless charging, IP68 dust and water resistance, and support for 5G connectivity in select markets.'"
      ]
     },
     "execution_count": 18,
     "metadata": {},
     "output_type": "execute_result"
    }
   ],
   "source": [
    "llm(\"what is the latest iphone?\")"
   ]
  },
  {
   "cell_type": "code",
   "execution_count": 19,
   "id": "a814486b",
   "metadata": {},
   "outputs": [
    {
     "data": {
      "text/plain": [
       "'\\nLaw Master of Laws (LLM) programs are postgraduate degree programs that provide advanced legal education to students who have already completed a law degree. The LLM program typically lasts for one year and offers specialized courses in a particular area of law, such as corporate law, intellectual property law, or international law.\\nThe main objective of an LLM program is to provide students with a deeper understanding of their chosen area of law, as well as the skills and knowledge necessary to practice in that area. LLM programs are designed for students who want to specialize in a particular area of law, gain expertise in a specific legal field, or prepare for a career in academia or legal research.\\nAn LLM program typically includes coursework, research, and sometimes, clinical work. Students in an LLM program take advanced courses, seminars, and workshops that are taught by experienced faculty members who are experts in their field. In addition to academic coursework, many LLM programs also offer opportunities for students to engage in practical learning experiences, such as internships or clinical work, which can help them gain hands-on experience in their chosen area of law.\\nEarning an L'"
      ]
     },
     "execution_count": 19,
     "metadata": {},
     "output_type": "execute_result"
    }
   ],
   "source": [
    "llm(\"what is LLM?\")"
   ]
  },
  {
   "cell_type": "code",
   "execution_count": 20,
   "id": "55e94f22",
   "metadata": {},
   "outputs": [
    {
     "data": {
      "text/plain": [
       "' and ML\\n\\nLLM (Master of Laws in Artificial Intelligence and Machine Learning) is a postgraduate degree that focuses on the legal aspects of AI and ML. The program is designed to provide students with a deep understanding of the legal implications of these technologies, as well as the skills necessary to navigate the complex regulatory landscape surrounding them.\\nThe curriculum for an LLM in AI and ML typically covers a range of topics, including:\\n1. Introduction to AI and ML: Students learn about the basics of AI and ML, including their definitions, applications, and current trends.\\n2. Legal Foundations: The program covers the fundamental legal principles that apply to AI and ML, such as data privacy, intellectual property, and contract law.\\n3. AI and ML Technologies: Students learn about the various technologies used in AI and ML, including machine learning algorithms, natural language processing, and computer vision.\\n4. Ethics and Governance: The program explores the ethical considerations surrounding AI and ML, such as bias, transparency, and accountability.\\n5. Regulatory Frameworks: Students learn'"
      ]
     },
     "execution_count": 20,
     "metadata": {},
     "output_type": "execute_result"
    }
   ],
   "source": [
    "llm(\"llma in AI\")"
   ]
  },
  {
   "cell_type": "code",
   "execution_count": 21,
   "id": "22a613c2",
   "metadata": {},
   "outputs": [
    {
     "data": {
      "text/plain": [
       "'\\n\\nShailendra (1923-1966) was an Indian music composer, singer, and lyricist. He is best known for his work in Hindi cinema, particularly during the 1950s and 1960s, when he collaborated with some of the most prominent filmmakers and singers of the time.\\nShailendra was born as Shankar-Jaikishan on January 18, 1923, in a small village in the state of Gujarat, India. He began his career in music at a young age, singing in local theaters and radio stations. Later, he moved to Mumbai (formerly Bombay) to pursue a career in film music.\\nShailendra\\'s breakthrough came when he teamed up with composer Naushad Ali for the film \"Mahal\" (1949). Their collaboration resulted in some of the most memorable songs of the era, including \"Aayega Aanewala\" and \"Dil Ki Tamanna Kahin Bhi Dekha Hai.\"\\nOver the next few years, Shailendra worked with several other prominent compos'"
      ]
     },
     "execution_count": 21,
     "metadata": {},
     "output_type": "execute_result"
    }
   ],
   "source": [
    "llm(\"who is shailendra?\")"
   ]
  },
  {
   "cell_type": "code",
   "execution_count": null,
   "id": "2323160b",
   "metadata": {},
   "outputs": [],
   "source": []
  }
 ],
 "metadata": {
  "kernelspec": {
   "display_name": "Python 3 (ipykernel)",
   "language": "python",
   "name": "python3"
  },
  "language_info": {
   "codemirror_mode": {
    "name": "ipython",
    "version": 3
   },
   "file_extension": ".py",
   "mimetype": "text/x-python",
   "name": "python",
   "nbconvert_exporter": "python",
   "pygments_lexer": "ipython3",
   "version": "3.11.5"
  }
 },
 "nbformat": 4,
 "nbformat_minor": 5
}
